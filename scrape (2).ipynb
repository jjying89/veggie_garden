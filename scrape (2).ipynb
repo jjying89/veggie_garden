{
 "cells": [
  {
   "cell_type": "code",
   "execution_count": 1,
   "metadata": {},
   "outputs": [],
   "source": [
    "import pandas as pd\n",
    "from splinter import Browser\n",
    "from bs4 import BeautifulSoup as bs\n",
    "from webdriver_manager.chrome import ChromeDriverManager"
   ]
  },
  {
   "cell_type": "code",
   "execution_count": 2,
   "metadata": {},
   "outputs": [],
   "source": [
    "# open browser\n",
    "executable_path = {'executable_path': 'C:\\chromedriver'}\n",
    "browser = Browser('chrome', **executable_path, headless=False)\n",
    "\n",
    "# https://chromedriver.storage.googleapis.com/index.html?path=90.0.4430.24/\n",
    "# 90.0.4430.93"
   ]
  },
  {
   "cell_type": "code",
   "execution_count": 37,
   "metadata": {},
   "outputs": [],
   "source": [
    "# visit url\n",
    "url = 'https://gardenate.com'\n",
    "browser.visit(url)"
   ]
  },
  {
   "cell_type": "code",
   "execution_count": 38,
   "metadata": {
    "scrolled": true
   },
   "outputs": [],
   "source": [
    "# read url html\n",
    "html = browser.html\n",
    "soup = bs(html, 'html.parser')"
   ]
  },
  {
   "cell_type": "code",
   "execution_count": 44,
   "metadata": {},
   "outputs": [
    {
     "data": {
      "text/plain": [
       "[<select class=\"form-control zone-selector\" id=\"zone-selector\" name=\"zone\"> <option value=\"17\">Australia - arid</option> <option value=\"1\">Australia - cool/mountain</option> <option value=\"3\">Australia - sub-tropical</option> <option value=\"2\">Australia - temperate</option> <option value=\"4\">Australia - tropical</option> <option value=\"61\">Canada - Zone 2a Sub-Arctic</option> <option value=\"62\">Canada - Zone 2b Sub-Arctic</option> <option value=\"60\">Canada - Zone 3a Temperate Short Summer</option> <option value=\"59\">Canada - Zone 3b Temperate Warm Summer</option> <option value=\"58\">Canada - zone 4a Temperate Warm Summer</option> <option value=\"57\">Canada - Zone 4b Temperate Warm Summer</option> <option value=\"56\">Canada - Zone 5a Temperate Warm Summer</option> <option value=\"55\">Canada - Zone 5b Temperate Warm Summer</option> <option value=\"54\">Canada - Zone 6a Temperate Warm Summer</option> <option value=\"53\">Canada - Zone 6b Temperate Warm Summer</option> <option value=\"52\">Canada - Zone 7a Mild Temperate</option> <option value=\"51\">Canada - Zone 7b Mild Temperate</option> <option value=\"50\">Canada - Zone 8a Mild Temperate</option> <option value=\"8\">United Kingdom - cool/temperate</option> <option value=\"9\">United Kingdom - warm/temperate</option> <option value=\"6\">New Zealand - cool/mountain</option> <option value=\"7\">New Zealand - sub-tropical</option> <option value=\"5\">New Zealand - temperate</option> <option value=\"107\">USA - Zone 2a</option> <option value=\"108\">USA - Zone 2b</option> <option value=\"109\">USA - Zone 3a</option> <option selected=\"selected\" value=\"110\">USA - Zone 3b</option> <option value=\"111\">USA - Zone 4a</option> <option value=\"112\">USA - Zone 4b</option> <option value=\"11\">USA - Zone 5a</option> <option value=\"14\">USA - Zone 5b</option> <option value=\"16\">USA - Zone 6a</option> <option value=\"113\">USA - Zone 6b</option> <option value=\"10\">USA - Zone 7a</option> <option value=\"114\">USA - Zone 7b</option> <option value=\"13\">USA - Zone 8a</option> <option value=\"12\">USA - Zone 8b</option> <option value=\"115\">USA - Zone 9a</option> <option value=\"116\">USA - Zone 9b</option> <option value=\"15\">USA - Zone 10a</option> <option value=\"100\">USA - Zone 10b</option> <option value=\"101\">USA - Zone 11a</option> <option value=\"102\">USA - Zone 11b</option> <option value=\"103\">USA - Zone 12a</option> <option value=\"104\">USA - Zone 12b</option> <option value=\"105\">USA - Zone 13a</option> <option value=\"106\">USA - Zone 13b</option> <option value=\"23\">South Africa - Dry summer sub-tropical</option> <option value=\"20\">South Africa - Humid sub-tropical</option> <option value=\"21\">South Africa - Semi-arid</option> <option value=\"22\">South Africa - Summer rainfall</option> </select>]"
      ]
     },
     "execution_count": 44,
     "metadata": {},
     "output_type": "execute_result"
    }
   ],
   "source": [
    "# print all climate zone option values\n",
    "# check your climate zone (https://gardenate.com/zones/)\n",
    "zones = soup.find_all('select', id='zone-selector')\n",
    "zones"
   ]
  },
  {
   "cell_type": "code",
   "execution_count": 40,
   "metadata": {
    "scrolled": true
   },
   "outputs": [
    {
     "data": {
      "text/plain": [
       "<option value=\"114\">USA - Zone 7b</option>"
      ]
     },
     "execution_count": 40,
     "metadata": {},
     "output_type": "execute_result"
    }
   ],
   "source": [
    "my_zone = soup.find(value='114')\n",
    "my_zone"
   ]
  },
  {
   "cell_type": "code",
   "execution_count": 41,
   "metadata": {},
   "outputs": [],
   "source": [
    "my_zone['selected'] = 'selected'"
   ]
  },
  {
   "cell_type": "code",
   "execution_count": 42,
   "metadata": {},
   "outputs": [
    {
     "data": {
      "text/plain": [
       "<option selected=\"selected\" value=\"114\">USA - Zone 7b</option>"
      ]
     },
     "execution_count": 42,
     "metadata": {},
     "output_type": "execute_result"
    }
   ],
   "source": [
    "my_zone"
   ]
  },
  {
   "cell_type": "code",
   "execution_count": null,
   "metadata": {},
   "outputs": [],
   "source": []
  },
  {
   "cell_type": "code",
   "execution_count": null,
   "metadata": {},
   "outputs": [],
   "source": []
  },
  {
   "cell_type": "code",
   "execution_count": null,
   "metadata": {},
   "outputs": [],
   "source": []
  },
  {
   "cell_type": "code",
   "execution_count": null,
   "metadata": {},
   "outputs": [],
   "source": []
  },
  {
   "cell_type": "code",
   "execution_count": null,
   "metadata": {},
   "outputs": [],
   "source": [
    "import pandas as pd\n",
    "from splinter import Browser\n",
    "from bs4 import BeautifulSoup as bs\n",
    "\n",
    "\n"
   ]
  }
 ],
 "metadata": {
  "kernelspec": {
   "display_name": "Python [conda env:pythondata] *",
   "language": "python",
   "name": "conda-env-pythondata-py"
  },
  "language_info": {
   "codemirror_mode": {
    "name": "ipython",
    "version": 3
   },
   "file_extension": ".py",
   "mimetype": "text/x-python",
   "name": "python",
   "nbconvert_exporter": "python",
   "pygments_lexer": "ipython3",
   "version": "3.6.10"
  }
 },
 "nbformat": 4,
 "nbformat_minor": 4
}
