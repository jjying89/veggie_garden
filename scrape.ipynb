{
 "cells": [
  {
   "cell_type": "code",
   "execution_count": 92,
   "metadata": {},
   "outputs": [],
   "source": [
    "from selenium import webdriver\n",
    "from selenium.webdriver.common.keys import Keys\n",
    "from selenium.webdriver.common.by import By\n",
    "from selenium.webdriver.support.ui import WebDriverWait\n",
    "from selenium.webdriver.support import expected_conditions as EC\n",
    "from selenium.webdriver.support.select import Select\n",
    "import time\n",
    "import pandas as pd"
   ]
  },
  {
   "cell_type": "code",
   "execution_count": 2,
   "metadata": {},
   "outputs": [],
   "source": [
    "# set chromedriver path and open browser\n",
    "PATH = 'C:\\chromedriver.exe'\n",
    "driver = webdriver.Chrome(PATH)"
   ]
  },
  {
   "cell_type": "code",
   "execution_count": 3,
   "metadata": {},
   "outputs": [],
   "source": [
    "# go to url\n",
    "url = 'https://www.gardenate.com/'\n",
    "driver.get(url)"
   ]
  },
  {
   "cell_type": "code",
   "execution_count": 4,
   "metadata": {
    "scrolled": true
   },
   "outputs": [
    {
     "name": "stdout",
     "output_type": "stream",
     "text": [
      "  Australia - arid\n",
      "  Australia - cool/mountain\n",
      "  Australia - sub-tropical\n",
      "  Australia - temperate\n",
      "  Australia - tropical\n",
      "  Canada - Zone 2a Sub-Arctic\n",
      "  Canada - Zone 2b Sub-Arctic\n",
      "  Canada - Zone 3a Temperate Short Summer\n",
      "  Canada - Zone 3b Temperate Warm Summer\n",
      "  Canada - zone 4a Temperate Warm Summer\n",
      "  Canada - Zone 4b Temperate Warm Summer\n",
      "  Canada - Zone 5a Temperate Warm Summer\n",
      "  Canada - Zone 5b Temperate Warm Summer\n",
      "  Canada - Zone 6a Temperate Warm Summer\n",
      "  Canada - Zone 6b Temperate Warm Summer\n",
      "  Canada - Zone 7a Mild Temperate\n",
      "  Canada - Zone 7b Mild Temperate\n",
      "  Canada - Zone 8a Mild Temperate\n",
      "  United Kingdom - cool/temperate\n",
      "  United Kingdom - warm/temperate\n",
      "  New Zealand - cool/mountain\n",
      "  New Zealand - sub-tropical\n",
      "  New Zealand - temperate\n",
      "  USA - Zone 2a\n",
      "  USA - Zone 2b\n",
      "  USA - Zone 3a\n",
      "  USA - Zone 3b\n",
      "  USA - Zone 4a\n",
      "  USA - Zone 4b\n",
      "  USA - Zone 5a\n",
      "  USA - Zone 5b\n",
      "  USA - Zone 6a\n",
      "  USA - Zone 6b\n",
      "  USA - Zone 7a\n",
      "  USA - Zone 7b\n",
      "  USA - Zone 8a\n",
      "  USA - Zone 8b\n",
      "  USA - Zone 9a\n",
      "  USA - Zone 9b\n",
      "  USA - Zone 10a\n",
      "  USA - Zone 10b\n",
      "  USA - Zone 11a\n",
      "  USA - Zone 11b\n",
      "  USA - Zone 12a\n",
      "  USA - Zone 12b\n",
      "  USA - Zone 13a\n",
      "  USA - Zone 13b\n",
      "  South Africa - Dry summer sub-tropical\n",
      "  South Africa - Humid sub-tropical\n",
      "  South Africa - Semi-arid\n",
      "  South Africa - Summer rainfall\n",
      "  \n"
     ]
    }
   ],
   "source": [
    "# list available zones\n",
    "# find your zone at 'https://www.gardenate.com/zones/'\n",
    "zones = driver.find_elements_by_id('zone-selector')\n",
    "for zone in zones:\n",
    "    print(zone.text)"
   ]
  },
  {
   "cell_type": "code",
   "execution_count": 5,
   "metadata": {},
   "outputs": [
    {
     "data": {
      "text/plain": [
       "'USA - Zone 7b'"
      ]
     },
     "execution_count": 5,
     "metadata": {},
     "output_type": "execute_result"
    }
   ],
   "source": [
    "# set zone (change as required)\n",
    "my_zone = 'USA - Zone 7b'\n",
    "my_zone"
   ]
  },
  {
   "cell_type": "code",
   "execution_count": 6,
   "metadata": {},
   "outputs": [],
   "source": [
    "# select zone from dropdown\n",
    "select_zone = Select(driver.find_element_by_id('zone-selector'))\n",
    "select_zone.select_by_visible_text(my_zone)"
   ]
  },
  {
   "cell_type": "code",
   "execution_count": 7,
   "metadata": {},
   "outputs": [],
   "source": [
    "months = ['January', 'February', 'March', 'April', 'May', 'June', 'July', 'August', 'September', 'October', 'November', 'December']"
   ]
  },
  {
   "cell_type": "code",
   "execution_count": 8,
   "metadata": {
    "scrolled": true
   },
   "outputs": [],
   "source": [
    "# select the month\n",
    "select_month = Select(driver.find_element_by_id('month-selector'))\n",
    "select_month.select_by_visible_text('January')"
   ]
  },
  {
   "cell_type": "code",
   "execution_count": 74,
   "metadata": {
    "scrolled": false
   },
   "outputs": [
    {
     "name": "stdout",
     "output_type": "stream",
     "text": [
      "Broccoli Start undercover in seed trays and plant out in 4-6 weeks\n",
      "Cabbage Sow seed\n",
      "Carrot Sow seed\n",
      "Celery Start undercover in seed trays and plant out in 4-6 weeks\n",
      "Kale (also Borecole) Start undercover in seed trays and plant out in 4-6 weeks\n",
      "Lettuce Sow seed\n",
      "Mustard greens (also gai choy) Sow seed\n",
      "Onion Sow seed\n",
      "Radish Sow seed\n",
      "Spinach (also English spinach) Sow seed\n",
      "Turnip Sow seed\n"
     ]
    }
   ],
   "source": [
    "plants = driver.find_elements_by_xpath('//div[@class=\"col-sm-9\"]//div[4]')\n",
    "for plant in plants:\n",
    "    print(plant.text)"
   ]
  },
  {
   "cell_type": "code",
   "execution_count": 79,
   "metadata": {},
   "outputs": [
    {
     "name": "stdout",
     "output_type": "stream",
     "text": [
      "1\n",
      "Broccoli Start undercover in seed trays and plant out in 4-6 weeks\n",
      "2\n"
     ]
    }
   ],
   "source": [
    "# not working correctly\n",
    "\n",
    "plants = driver.find_elements_by_xpath('//div[@class=\"col-sm-9\"]//div[4]/table/tbody')\n",
    "\n",
    "i = 1\n",
    "\n",
    "for plant in plants:\n",
    "    \n",
    "       \n",
    "    print(i)\n",
    "    \n",
    "    plant_name = plant.find_element_by_xpath('.//tr['+str(i)+']/td[1]/a').text\n",
    "    plant_action = plant.find_element_by_xpath('.//tr['+str(i)+']/td[2]').text\n",
    "    \n",
    "    i = i+1\n",
    "    \n",
    "    print(plant_name, plant_action)\n",
    "    print(i)\n",
    "    \n",
    "    continue"
   ]
  },
  {
   "cell_type": "code",
   "execution_count": 99,
   "metadata": {
    "scrolled": true
   },
   "outputs": [
    {
     "name": "stdout",
     "output_type": "stream",
     "text": [
      "Broccoli Start undercover in seed trays and plant out in 4-6 weeks\n",
      "Cabbage Sow seed\n",
      "Carrot Sow seed\n",
      "Celery Start undercover in seed trays and plant out in 4-6 weeks\n",
      "Kale (also Borecole) Start undercover in seed trays and plant out in 4-6 weeks\n",
      "Lettuce Sow seed\n",
      "Mustard greens (also gai choy) Sow seed\n",
      "Onion Sow seed\n",
      "Radish Sow seed\n",
      "Spinach (also English spinach) Sow seed\n",
      "Turnip Sow seed\n"
     ]
    }
   ],
   "source": [
    "yearly_list = []\n",
    "\n",
    "### for month in months:\n",
    "    \n",
    "select_month = Select(driver.find_element_by_id('month-selector'))\n",
    "select_month.select_by_visible_text('January')\n",
    "\n",
    "plants = driver.find_elements_by_xpath('//div[@class=\"col-sm-9\"]//div[4]')\n",
    "for plant in plants:\n",
    "    print(plant.text)\n",
    "        \n",
    "    monthly_tasks = {\n",
    "            \n",
    "        'month': month,\n",
    "        'plant_task': plant.text\n",
    "            \n",
    "    }\n",
    "        \n",
    "    yearly_list.append(monthly_tasks)"
   ]
  },
  {
   "cell_type": "code",
   "execution_count": 94,
   "metadata": {},
   "outputs": [
    {
     "data": {
      "text/plain": [
       "[{'month': 'March',\n",
       "  'plant_task': 'Broccoli Start undercover in seed trays and plant out in 4-6 weeks\\nCabbage Sow seed\\nCarrot Sow seed\\nCelery Start undercover in seed trays and plant out in 4-6 weeks\\nKale (also Borecole) Start undercover in seed trays and plant out in 4-6 weeks\\nLettuce Sow seed\\nMustard greens (also gai choy) Sow seed\\nOnion Sow seed\\nRadish Sow seed\\nSpinach (also English spinach) Sow seed\\nTurnip Sow seed'}]"
      ]
     },
     "execution_count": 94,
     "metadata": {},
     "output_type": "execute_result"
    }
   ],
   "source": [
    "yearly_list"
   ]
  },
  {
   "cell_type": "code",
   "execution_count": 96,
   "metadata": {},
   "outputs": [],
   "source": [
    "df = pd.DataFrame.from_dict(yearly_list)"
   ]
  },
  {
   "cell_type": "code",
   "execution_count": 100,
   "metadata": {},
   "outputs": [
    {
     "data": {
      "text/html": [
       "<div>\n",
       "<style scoped>\n",
       "    .dataframe tbody tr th:only-of-type {\n",
       "        vertical-align: middle;\n",
       "    }\n",
       "\n",
       "    .dataframe tbody tr th {\n",
       "        vertical-align: top;\n",
       "    }\n",
       "\n",
       "    .dataframe thead th {\n",
       "        text-align: right;\n",
       "    }\n",
       "</style>\n",
       "<table border=\"1\" class=\"dataframe\">\n",
       "  <thead>\n",
       "    <tr style=\"text-align: right;\">\n",
       "      <th></th>\n",
       "      <th>month</th>\n",
       "      <th>plant_task</th>\n",
       "    </tr>\n",
       "  </thead>\n",
       "  <tbody>\n",
       "    <tr>\n",
       "      <th>0</th>\n",
       "      <td>March</td>\n",
       "      <td>Broccoli Start undercover in seed trays and pl...</td>\n",
       "    </tr>\n",
       "  </tbody>\n",
       "</table>\n",
       "</div>"
      ],
      "text/plain": [
       "   month                                         plant_task\n",
       "0  March  Broccoli Start undercover in seed trays and pl..."
      ]
     },
     "execution_count": 100,
     "metadata": {},
     "output_type": "execute_result"
    }
   ],
   "source": [
    "df"
   ]
  },
  {
   "cell_type": "code",
   "execution_count": null,
   "metadata": {},
   "outputs": [],
   "source": []
  },
  {
   "cell_type": "code",
   "execution_count": null,
   "metadata": {},
   "outputs": [],
   "source": []
  }
 ],
 "metadata": {
  "kernelspec": {
   "display_name": "Python 3",
   "language": "python",
   "name": "python3"
  },
  "language_info": {
   "codemirror_mode": {
    "name": "ipython",
    "version": 3
   },
   "file_extension": ".py",
   "mimetype": "text/x-python",
   "name": "python",
   "nbconvert_exporter": "python",
   "pygments_lexer": "ipython3",
   "version": "3.6.10"
  }
 },
 "nbformat": 4,
 "nbformat_minor": 4
}
