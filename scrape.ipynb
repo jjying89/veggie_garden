{
 "cells": [
  {
   "cell_type": "code",
   "execution_count": 31,
   "metadata": {},
   "outputs": [],
   "source": [
    "from selenium import webdriver\n",
    "from selenium.webdriver.common.keys import Keys\n",
    "from selenium.webdriver.common.by import By\n",
    "from selenium.webdriver.support.ui import WebDriverWait\n",
    "from selenium.webdriver.support import expected_conditions as EC\n",
    "from selenium.webdriver.support.select import Select\n",
    "import time"
   ]
  },
  {
   "cell_type": "code",
   "execution_count": 2,
   "metadata": {},
   "outputs": [],
   "source": [
    "# set chromedriver path\n",
    "PATH = 'C:\\chromedriver.exe'\n",
    "driver = webdriver.Chrome(PATH)"
   ]
  },
  {
   "cell_type": "code",
   "execution_count": 4,
   "metadata": {},
   "outputs": [],
   "source": [
    "# set and open url\n",
    "url = 'https://www.gardenate.com/'\n",
    "driver.get(url)"
   ]
  },
  {
   "cell_type": "code",
   "execution_count": 23,
   "metadata": {
    "scrolled": true
   },
   "outputs": [
    {
     "name": "stdout",
     "output_type": "stream",
     "text": [
      "  Australia - arid\n",
      "  Australia - cool/mountain\n",
      "  Australia - sub-tropical\n",
      "  Australia - temperate\n",
      "  Australia - tropical\n",
      "  Canada - Zone 2a Sub-Arctic\n",
      "  Canada - Zone 2b Sub-Arctic\n",
      "  Canada - Zone 3a Temperate Short Summer\n",
      "  Canada - Zone 3b Temperate Warm Summer\n",
      "  Canada - zone 4a Temperate Warm Summer\n",
      "  Canada - Zone 4b Temperate Warm Summer\n",
      "  Canada - Zone 5a Temperate Warm Summer\n",
      "  Canada - Zone 5b Temperate Warm Summer\n",
      "  Canada - Zone 6a Temperate Warm Summer\n",
      "  Canada - Zone 6b Temperate Warm Summer\n",
      "  Canada - Zone 7a Mild Temperate\n",
      "  Canada - Zone 7b Mild Temperate\n",
      "  Canada - Zone 8a Mild Temperate\n",
      "  United Kingdom - cool/temperate\n",
      "  United Kingdom - warm/temperate\n",
      "  New Zealand - cool/mountain\n",
      "  New Zealand - sub-tropical\n",
      "  New Zealand - temperate\n",
      "  USA - Zone 2a\n",
      "  USA - Zone 2b\n",
      "  USA - Zone 3a\n",
      "  USA - Zone 3b\n",
      "  USA - Zone 4a\n",
      "  USA - Zone 4b\n",
      "  USA - Zone 5a\n",
      "  USA - Zone 5b\n",
      "  USA - Zone 6a\n",
      "  USA - Zone 6b\n",
      "  USA - Zone 7a\n",
      "  USA - Zone 7b\n",
      "  USA - Zone 8a\n",
      "  USA - Zone 8b\n",
      "  USA - Zone 9a\n",
      "  USA - Zone 9b\n",
      "  USA - Zone 10a\n",
      "  USA - Zone 10b\n",
      "  USA - Zone 11a\n",
      "  USA - Zone 11b\n",
      "  USA - Zone 12a\n",
      "  USA - Zone 12b\n",
      "  USA - Zone 13a\n",
      "  USA - Zone 13b\n",
      "  South Africa - Dry summer sub-tropical\n",
      "  South Africa - Humid sub-tropical\n",
      "  South Africa - Semi-arid\n",
      "  South Africa - Summer rainfall\n",
      "  \n"
     ]
    }
   ],
   "source": [
    "# check and see available zones\n",
    "# find your zone at 'https://www.gardenate.com/zones/'\n",
    "zones = driver.find_elements_by_id('zone-selector')\n",
    "for zone in zones:\n",
    "    print(zone.text)"
   ]
  },
  {
   "cell_type": "code",
   "execution_count": 26,
   "metadata": {},
   "outputs": [
    {
     "data": {
      "text/plain": [
       "'USA - Zone 7b'"
      ]
     },
     "execution_count": 26,
     "metadata": {},
     "output_type": "execute_result"
    }
   ],
   "source": [
    "# set zone (change as required)\n",
    "my_zone = 'USA - Zone 7b'\n",
    "my_zone"
   ]
  },
  {
   "cell_type": "code",
   "execution_count": 35,
   "metadata": {},
   "outputs": [],
   "source": [
    "# select zone\n",
    "select_zone = Select(driver.find_element_by_id('zone-selector'))\n",
    "select_zone.select_by_visible_text(my_zone)"
   ]
  },
  {
   "cell_type": "code",
   "execution_count": 38,
   "metadata": {},
   "outputs": [],
   "source": [
    "months = ['January', 'February', 'March', 'April', 'May', 'June', 'July', 'August', 'September', 'October', 'November', 'December']"
   ]
  },
  {
   "cell_type": "code",
   "execution_count": 40,
   "metadata": {
    "scrolled": true
   },
   "outputs": [],
   "source": [
    "select_month = Select(driver.find_element_by_id('month-selector'))\n",
    "select_month.select_by_visible_text('January')"
   ]
  },
  {
   "cell_type": "code",
   "execution_count": 46,
   "metadata": {},
   "outputs": [
    {
     "name": "stdout",
     "output_type": "stream",
     "text": [
      "Broccoli Start undercover in seed trays and plant out in 4-6 weeks\n",
      "Cabbage Sow seed\n",
      "Carrot Sow seed\n",
      "Celery Start undercover in seed trays and plant out in 4-6 weeks\n",
      "Kale (also Borecole) Start undercover in seed trays and plant out in 4-6 weeks\n",
      "Lettuce Sow seed\n",
      "Mustard greens (also gai choy) Sow seed\n",
      "Onion Sow seed\n",
      "Radish Sow seed\n",
      "Spinach (also English spinach) Sow seed\n",
      "Turnip Sow seed\n",
      "Artichokes (Globe) Start undercover in seed trays and plant out in 4-6 weeks\n",
      "Asparagus Plant crowns\n",
      "Beetroot (also Beets) Sow seed\n",
      "Broccoli Plant out (transplant) seedlings or sow seed\n",
      "Brussels sprouts Start undercover in seed trays and plant out in 4-6 weeks\n",
      "Cabbage Sow seed\n",
      "Cape Gooseberry (also Golden Berry, Inca Berry ) Start undercover in seed trays and plant out in 4-6 weeks\n",
      "Capsicum (also Bell peppers, Sweet peppers) Start undercover in seed trays and plant out in 4-6 weeks\n",
      "Carrot Sow seed\n",
      "Cauliflower Sow seed\n",
      "Celeriac Start undercover in seed trays and plant out in 4-6 weeks\n",
      "Celery Start undercover in seed trays and plant out in 4-6 weeks\n",
      "Chicory (also Witloof, Belgian endive) Start undercover in seed trays and plant out in 4-6 weeks\n",
      "Chilli peppers (also Hot peppers) Start undercover in seed trays and plant out in 4-6 weeks\n",
      "Collards (also Collard greens, Borekale) Sow seed\n",
      "Corn Salad (also Lamb's lettuce or Mache) Sow seed\n",
      "Eggplant (also Aubergine) Start undercover in seed trays and plant out in 4-6 weeks\n",
      "Kale (also Borecole) Sow seed\n",
      "Leeks Start undercover in seed trays and plant out in 4-6 weeks\n",
      "Lettuce Plant out (transplant) seedlings or sow seed\n",
      "Marrow Start undercover in seed trays and plant out in 4-6 weeks\n",
      "Mint (also Garden mint) Start undercover in seed trays and plant out in 4-6 weeks\n",
      "Mizuna (also Japanese Greens, Mitzuna, Mibuna) Sow seed\n",
      "Mustard greens (also gai choy) Plant out (transplant) seedlings or sow seed\n",
      "Onion Sow seed\n",
      "Parsnip Start undercover in seed trays and plant out in 4-6 weeks\n",
      "Pumpkin Start undercover in seed trays and plant out in 4-6 weeks\n",
      "Radish Sow seed\n",
      "Rhubarb Plant crowns\n",
      "Silverbeet (also Swiss Chard or Mangold) Start undercover in seed trays and plant out in 4-6 weeks\n",
      "Spinach (also English spinach) Sow seed\n",
      "Strawberries (from seeds) Start undercover in seed trays and plant out in 4-6 weeks\n",
      "Tomato Start undercover in seed trays and plant out in 4-6 weeks\n",
      "Turnip Sow seed\n"
     ]
    }
   ],
   "source": [
    "plants = driver.find_elements_by_class_name('plant-list')\n",
    "for plant in plants:\n",
    "    print(plant.text)"
   ]
  },
  {
   "cell_type": "code",
   "execution_count": null,
   "metadata": {},
   "outputs": [],
   "source": []
  },
  {
   "cell_type": "code",
   "execution_count": null,
   "metadata": {},
   "outputs": [],
   "source": []
  },
  {
   "cell_type": "code",
   "execution_count": null,
   "metadata": {},
   "outputs": [],
   "source": []
  },
  {
   "cell_type": "code",
   "execution_count": null,
   "metadata": {},
   "outputs": [],
   "source": []
  },
  {
   "cell_type": "code",
   "execution_count": null,
   "metadata": {},
   "outputs": [],
   "source": []
  },
  {
   "cell_type": "code",
   "execution_count": null,
   "metadata": {},
   "outputs": [],
   "source": []
  },
  {
   "cell_type": "code",
   "execution_count": null,
   "metadata": {},
   "outputs": [],
   "source": []
  },
  {
   "cell_type": "code",
   "execution_count": null,
   "metadata": {},
   "outputs": [],
   "source": []
  },
  {
   "cell_type": "code",
   "execution_count": null,
   "metadata": {},
   "outputs": [],
   "source": []
  }
 ],
 "metadata": {
  "kernelspec": {
   "display_name": "Python [conda env:pythondata] *",
   "language": "python",
   "name": "conda-env-pythondata-py"
  },
  "language_info": {
   "codemirror_mode": {
    "name": "ipython",
    "version": 3
   },
   "file_extension": ".py",
   "mimetype": "text/x-python",
   "name": "python",
   "nbconvert_exporter": "python",
   "pygments_lexer": "ipython3",
   "version": "3.6.10"
  }
 },
 "nbformat": 4,
 "nbformat_minor": 4
}
